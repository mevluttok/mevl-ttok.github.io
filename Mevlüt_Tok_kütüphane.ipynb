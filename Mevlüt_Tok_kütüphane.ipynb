{
  "nbformat": 4,
  "nbformat_minor": 0,
  "metadata": {
    "colab": {
      "provenance": []
    },
    "kernelspec": {
      "name": "python3",
      "display_name": "Python 3"
    },
    "language_info": {
      "name": "python"
    }
  },
  "cells": [
    {
      "cell_type": "code",
      "execution_count": null,
      "metadata": {
        "colab": {
          "base_uri": "https://localhost:8080/"
        },
        "id": "vVcPNzj-bPYY",
        "outputId": "55d81112-c85b-4a00-e893-c2b89d478448"
      },
      "outputs": [
        {
          "output_type": "stream",
          "name": "stdout",
          "text": [
            "*** MENU ***\n",
            "1) List Books\n",
            "2) Add Book\n",
            "3) Remove Book\n",
            "Enter your choice (1-3): 2\n",
            "Enter the book title: 242\n",
            "Enter the book author: mevlüt\n",
            "Enter the release year: 2001\n",
            "Enter the number of pages: 111\n",
            "Book added successfully!\n",
            "*** MENU ***\n",
            "1) List Books\n",
            "2) Add Book\n",
            "3) Remove Book\n",
            "Enter your choice (1-3): 1\n",
            "Book Title: 242, Author: mevlüt\n",
            "*** MENU ***\n",
            "1) List Books\n",
            "2) Add Book\n",
            "3) Remove Book\n",
            "Enter your choice (1-3): 3\n",
            "Enter the book title to remove: 242\n",
            "Book '242' removed successfully!\n",
            "*** MENU ***\n",
            "1) List Books\n",
            "2) Add Book\n",
            "3) Remove Book\n",
            "Enter your choice (1-3): 2\n",
            "Enter the book title: Dönüşüm\n",
            "Enter the book author: Franz Kafka\n",
            "Enter the release year: 2021\n",
            "Enter the number of pages: 64\n",
            "Book added successfully!\n",
            "*** MENU ***\n",
            "1) List Books\n",
            "2) Add Book\n",
            "3) Remove Book\n"
          ]
        }
      ],
      "source": [
        "class Library:\n",
        "    def __init__(self):\n",
        "        self.file = \"books.txt\"\n",
        "\n",
        "    def __del__(self):\n",
        "        self.file.close()\n",
        "\n",
        "    def list_books(self):\n",
        "        with open(self.file, \"r\") as f:\n",
        "            books = f.readlines()\n",
        "            for book in books:\n",
        "                book_info = book.strip().split(\",\")\n",
        "                print(f\"Book Title: {book_info[0]}, Author: {book_info[1]}\")\n",
        "\n",
        "    def add_book(self):\n",
        "        book_title = input(\"Enter the book title: \")\n",
        "        book_author = input(\"Enter the book author: \")\n",
        "        release_year = input(\"Enter the release year: \")\n",
        "        num_pages = input(\"Enter the number of pages: \")\n",
        "        book_info = f\"{book_title},{book_author},{release_year},{num_pages}\\n\"\n",
        "        with open(self.file, \"a\") as f:\n",
        "            f.write(book_info)\n",
        "        print(\"Book added successfully!\")\n",
        "\n",
        "    def remove_book(self):\n",
        "        book_title = input(\"Enter the book title to remove: \")\n",
        "        with open(self.file, \"r\") as f:\n",
        "            books = f.readlines()\n",
        "        updated_books = []\n",
        "        removed = False\n",
        "        for book in books:\n",
        "            if book.split(\",\")[0] != book_title:\n",
        "                updated_books.append(book)\n",
        "            else:\n",
        "                removed = True\n",
        "        if removed:\n",
        "            with open(self.file, \"w\") as f:\n",
        "                f.writelines(updated_books)\n",
        "            print(f\"Book '{book_title}' removed successfully!\")\n",
        "        else:\n",
        "            print(f\"Book '{book_title}' not found!\")\n",
        "\n",
        "def menu():\n",
        "    print(\"*** MENU ***\")\n",
        "    print(\"1) List Books\")\n",
        "    print(\"2) Add Book\")\n",
        "    print(\"3) Remove Book\")\n",
        "\n",
        "lib = Library()\n",
        "\n",
        "while True:\n",
        "    menu()\n",
        "    choice = input(\"Enter your choice (1-3): \")\n",
        "    if choice == \"1\":\n",
        "        lib.list_books()\n",
        "    elif choice == \"2\":\n",
        "        lib.add_book()\n",
        "    elif choice == \"3\":\n",
        "        lib.remove_book()\n",
        "    else:\n",
        "        print(\"Invalid choice. Please enter a number between 1 and 3.\")\n",
        "\n"
      ]
    }
  ]
}